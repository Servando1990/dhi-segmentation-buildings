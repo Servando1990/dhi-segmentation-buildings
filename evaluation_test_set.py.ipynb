{
 "cells": [
  {
   "cell_type": "code",
   "execution_count": null,
   "metadata": {},
   "outputs": [],
   "source": [
    "import sys\n",
    "import numpy as np\n",
    "import os\n",
    "import cv2\n",
    "import matplotlib.pyplot as plt\n",
    "import logging\n",
    "\n",
    "\n",
    "import torch\n",
    "import torch.nn as nn\n",
    "from torch import optim\n",
    "import torch.backends.cudnn as cudnn\n",
    "from torchvision import transforms\n",
    "from torch.utils.data import DataLoader\n",
    "\n",
    "from IOU_computations import *\n",
    "from Data_Handle.dataset_generator import Dataset_sat\n",
    "from predict_and_evaluate import *\n",
    "from Data_Handle.data_augmentation import *\n",
    "\n",
    "import json\n",
    "from random import randint\n"
   ]
  },
  {
   "cell_type": "code",
   "execution_count": null,
   "metadata": {},
   "outputs": [],
   "source": [
    "#to update in real time the notebook figures\n",
    "%matplotlib notebook "
   ]
  },
  {
   "cell_type": "markdown",
   "metadata": {},
   "source": [
    "## Necessary parameters and Load model"
   ]
  },
  {
   "cell_type": "markdown",
   "metadata": {},
   "source": [
    "#### WATCH OUT  Parameters should be set equal to the ones which has been trained the model with"
   ]
  },
  {
   "cell_type": "code",
   "execution_count": null,
   "metadata": {},
   "outputs": [],
   "source": [
    "logging.basicConfig(level=logging.INFO, format='%(asctime)s %(message)s')\n",
    "\n",
    "###################################\n",
    "\n",
    "INPUT_CHANNELS=9 #9 channels for panchromatic + 8 pansharpened. If not set to 9, plotting of patches will mess up.\n",
    "                # so only works for INPUT_CHANNELS=9 anyway.\n",
    "\n",
    "NB_CLASSES=2 #Building and Background. Only works for NB_CLASSES=2 anyway, otherwise this network doesn't work.\n",
    "SIZE_PATCH=128# patches of size 128x128. Needs to be equal to the size of the patches of the dataset.\n",
    "############## \n",
    "\n",
    "\n",
    "###############\n",
    "DEFAULT_LAYERS=3 #number of layers of the UNET (not considering bottom layer) = number of downsmapling stages\n",
    "DEFAULT_FEATURES_ROOT=32 # number of filters in the first layer of the Unet\n",
    "DEFAULT_BN=True # Batch normalization layers included\n",
    "\n",
    "#####\n",
    "\n",
    "DEFAULT_FILTER_WIDTH=3 #convolution kernel size. ex, here: 3x3\n",
    "DEFAULT_LR=1e-3#1e-3for spacenet and ghana\n",
    "DEFAULT_N_RESBLOCKS=1 #can add residual blocks inside each stage. Make the network heavier. Not advised.\n",
    "\n",
    "########\n",
    "DISTANCE_NET='v2' #can be set to none if no distance module wants to be used\n",
    "BINS=10\n",
    "THRESHOLD=20\n",
    "\n",
    "if DISTANCE_NET is None:\n",
    "    DISTANCE_NET_UNET=False # has to be set to False if no distance module is used, otherwise error.\n",
    "else:\n",
    "    DISTANCE_NET_UNET=True\n",
    "\n",
    "    \n",
    "#type of loss used \n",
    "LOSS_FN='jaccard_approx'#or 'cross-entropy'\n",
    "\n",
    "# root_folder='../SPACENET_DATA/SPACENET_DATA_PROCESSED/DATASET/128_x_128_8_bands_pansh/'\n",
    "root_folder ='../2_DATA_GHANA/DATASET/128_x_128_8_pansh/'\n",
    "# root_folder ='../2_DATA_GHANA_BALANCED/DATASET/128_x_128_8_pansh/'\n",
    "path_model='TRAINED_MODELS/RUBV3D2_final_model_ghana.pth'\n",
    "# path_model='TRAINED_MODELS/RUBV3D2_final_model_spacenet.pth'\n",
    "\n",
    "from RUBV3D2 import UNet \n",
    "model=UNet(INPUT_CHANNELS,NB_CLASSES,depth =DEFAULT_LAYERS,n_features_zero =DEFAULT_FEATURES_ROOT,width_kernel=DEFAULT_FILTER_WIDTH,dropout=0,distance_net=DISTANCE_NET_UNET,bins=BINS,batch_norm=DEFAULT_BN)\n",
    "model.cuda()\n",
    "cudnn.benchmark = True\n",
    "model.load_state_dict(torch.load(path_model))\n",
    "\n"
   ]
  },
  {
   "cell_type": "code",
   "execution_count": null,
   "metadata": {},
   "outputs": [],
   "source": [
    "batch_size=32\n",
    "SAVE_PATCHES=True\n",
    "test_generator=Dataset_sat.from_root_folder(root_folder+'TEST/',NB_CLASSES)\n",
    "\n",
    "\n",
    "test_loader = DataLoader(test_generator, batch_size=batch_size,shuffle=True, num_workers=1)\n",
    "\n",
    "\n",
    "##\n",
    "all_prediction_path='TEST_SET_GHANA/'\n",
    "if not os.path.exists(all_prediction_path):\n",
    "    os.makedirs(all_prediction_path)\n",
    "file_results=open(all_prediction_path+'models_ghana.txt','w')\n",
    "\n",
    "\n",
    "\n",
    "model_name='RUBVRD2'\n",
    "\n",
    "TMP_IOU=all_prediction_path+'TMP_IOU/'\n",
    "if not os.path.exists(TMP_IOU):\n",
    "    os.makedirs(TMP_IOU)\n",
    "\n",
    "loss_v=0\n",
    "error_rate_v=0\n",
    "iou_acc_v=0\n",
    "f1_v=0\n",
    "    \n",
    "\n",
    "\n",
    "for i_batch,sample in enumerate(test_loader):\n",
    "    \n",
    "    \n",
    "    predict_net=Train_or_Predict(sample,DISTANCE_NET,LOSS_FN,THRESHOLD,BINS,model)\n",
    "    loss,probs_dist,probs_seg=predict_net.forward_pass()\n",
    "\n",
    "    prediction_seg_v=probs_seg.data.cpu().numpy()\n",
    "    groundtruth_seg_v=np.asarray(predict_net.batch_y)\n",
    "    prediction_dist_v=probs_dist.data.cpu().numpy()\n",
    "    groundtruth_dist=np.asarray(predict_net.batch_y_dist)\n",
    "    loss_v+=loss.data[0]\n",
    "    error_rate_v+=error_rate(prediction_seg_v,groundtruth_seg_v)\n",
    "    iou_acc,f1,_=predict_score_batch(TMP_IOU,np.argmax(groundtruth_seg_v,3),np.argmax(prediction_seg_v,3))\n",
    "    iou_acc_v+=iou_acc\n",
    "    f1_v+=f1\n",
    "    \n",
    "loss_v/=test_loader.__len__()   \n",
    "error_rate_v/=test_loader.__len__() \n",
    "iou_acc_v/=test_loader.__len__()  \n",
    "f1_v/=test_loader.__len__()  \n",
    "logging.info(\"Model {:s}: Verif loss = {:.4f}, Verification  Error rate = {:.4f}%, IOU Precision = {:.4f}%, F1 IOU= {:.4f}%\".format(model_name,loss_v,error_rate_v,iou_acc_v,f1_v))\n",
    "\n",
    "file_results.write(json.dumps({'name': model_name, 'loss':loss_v, 'Erro rate':error_rate_v, 'IOU accuracy':iou_acc_v, 'F1 IOU': f1_v}))\n",
    "file_results.flush()"
   ]
  },
  {
   "cell_type": "code",
   "execution_count": null,
   "metadata": {},
   "outputs": [],
   "source": []
  },
  {
   "cell_type": "code",
   "execution_count": null,
   "metadata": {},
   "outputs": [],
   "source": []
  },
  {
   "cell_type": "code",
   "execution_count": null,
   "metadata": {},
   "outputs": [],
   "source": []
  },
  {
   "cell_type": "code",
   "execution_count": null,
   "metadata": {},
   "outputs": [],
   "source": []
  }
 ],
 "metadata": {
  "kernelspec": {
   "display_name": "Python [conda env:env_dhi]",
   "language": "python",
   "name": "conda-env-env_dhi-py"
  },
  "language_info": {
   "codemirror_mode": {
    "name": "ipython",
    "version": 3
   },
   "file_extension": ".py",
   "mimetype": "text/x-python",
   "name": "python",
   "nbconvert_exporter": "python",
   "pygments_lexer": "ipython3",
   "version": "3.6.4"
  }
 },
 "nbformat": 4,
 "nbformat_minor": 2
}
